{
 "metadata": {
  "language_info": {
   "codemirror_mode": {
    "name": "ipython",
    "version": 3
   },
   "file_extension": ".py",
   "mimetype": "text/x-python",
   "name": "python",
   "nbconvert_exporter": "python",
   "pygments_lexer": "ipython3",
   "version": "3.6.9-final"
  },
  "orig_nbformat": 2,
  "kernelspec": {
   "name": "python3",
   "display_name": "Python 3",
   "language": "python"
  }
 },
 "nbformat": 4,
 "nbformat_minor": 2,
 "cells": [
  {
   "source": [
    "# Integração e pré-processamento das bases de dados de jogos eletrônicos\n",
    "\n",
    "Para esta tarefa, utilizaremos somente as biblioteca `pandas`, `numpy` e `scikitlearn`. "
   ],
   "cell_type": "markdown",
   "metadata": {}
  },
  {
   "cell_type": "code",
   "execution_count": 168,
   "metadata": {},
   "outputs": [
    {
     "output_type": "stream",
     "name": "stdout",
     "text": [
      "Total de jogos na base de dados 1: 1632\nTotal de jogos na base de dados 2: 1588\n\nBase de dados resultante da operação de concatenação:\n"
     ]
    },
    {
     "output_type": "execute_result",
     "data": {
      "text/plain": [
       "                                        nome plataforma        genero  \\\n",
       "0               Jelly Belly: Ballistic Beans        Wii        Puzzle   \n",
       "1                              Madden NFL 12        PSP        Sports   \n",
       "2                           The Sims 2: Pets        Wii    Simulation   \n",
       "3            Guilty Gear XX Accent Core Plus        PSP      Fighting   \n",
       "4                                   WWE 2K14        PS3        Sports   \n",
       "...                                      ...        ...           ...   \n",
       "1583               Major League Baseball 2K8        PSP        Sports   \n",
       "1584          Monster Hunter Frontier Online        PS3  Role-Playing   \n",
       "1585                        Battle vs. Chess        PS3          Misc   \n",
       "1586  AKB1/48: Idol to Guam de Koishitara...       X360          Misc   \n",
       "1587       PDC World Championship Darts 2008        PSP        Sports   \n",
       "\n",
       "                     editora  vendas lancamento  avaliacao-criticos  \\\n",
       "0     Zoo Digital Publishing    0.02  21-Apr-09                 NaN   \n",
       "1            Electronic Arts    0.20  30-Aug-11                 NaN   \n",
       "2            Electronic Arts    0.46  12-Jun-07                65.0   \n",
       "3                      PQube    0.08   7-Apr-09                 NaN   \n",
       "4       Take-Two Interactive    0.72  29-Oct-13                74.0   \n",
       "...                      ...     ...        ...                 ...   \n",
       "1583                 Unknown    0.03   3-Mar-08                63.0   \n",
       "1584                     NaN    0.03        NaN                 NaN   \n",
       "1585     TopWare Interactive    0.03        TBA                 NaN   \n",
       "1586                     NaN    0.01        NaN                 NaN   \n",
       "1587      Oxygen Interactive    0.01  16-Jun-09                43.0   \n",
       "\n",
       "      numero-criticos avaliacao-usuarios  numero-usuarios  \\\n",
       "0                 NaN                tbd              NaN   \n",
       "1                 NaN                tbd              NaN   \n",
       "2                15.0                tbd              NaN   \n",
       "3                 NaN                8.3              4.0   \n",
       "4                21.0                7.4             60.0   \n",
       "...               ...                ...              ...   \n",
       "1583              5.0                tbd              NaN   \n",
       "1584              NaN                NaN              NaN   \n",
       "1585              NaN                NaN              NaN   \n",
       "1586              NaN                NaN              NaN   \n",
       "1587              7.0                tbd              NaN   \n",
       "\n",
       "                  fabricante  \n",
       "0     Zoo Digital Publishing  \n",
       "1                 EA Tiburon  \n",
       "2                      Maxis  \n",
       "3           Arc System Works  \n",
       "4                     Yuke's  \n",
       "...                      ...  \n",
       "1583              Kush Games  \n",
       "1584                     NaN  \n",
       "1585     TopWare Interactive  \n",
       "1586                     NaN  \n",
       "1587      Oxygen Interactive  \n",
       "\n",
       "[3220 rows x 11 columns]"
      ],
      "text/html": "<div>\n<style scoped>\n    .dataframe tbody tr th:only-of-type {\n        vertical-align: middle;\n    }\n\n    .dataframe tbody tr th {\n        vertical-align: top;\n    }\n\n    .dataframe thead th {\n        text-align: right;\n    }\n</style>\n<table border=\"1\" class=\"dataframe\">\n  <thead>\n    <tr style=\"text-align: right;\">\n      <th></th>\n      <th>nome</th>\n      <th>plataforma</th>\n      <th>genero</th>\n      <th>editora</th>\n      <th>vendas</th>\n      <th>lancamento</th>\n      <th>avaliacao-criticos</th>\n      <th>numero-criticos</th>\n      <th>avaliacao-usuarios</th>\n      <th>numero-usuarios</th>\n      <th>fabricante</th>\n    </tr>\n  </thead>\n  <tbody>\n    <tr>\n      <th>0</th>\n      <td>Jelly Belly: Ballistic Beans</td>\n      <td>Wii</td>\n      <td>Puzzle</td>\n      <td>Zoo Digital Publishing</td>\n      <td>0.02</td>\n      <td>21-Apr-09</td>\n      <td>NaN</td>\n      <td>NaN</td>\n      <td>tbd</td>\n      <td>NaN</td>\n      <td>Zoo Digital Publishing</td>\n    </tr>\n    <tr>\n      <th>1</th>\n      <td>Madden NFL 12</td>\n      <td>PSP</td>\n      <td>Sports</td>\n      <td>Electronic Arts</td>\n      <td>0.20</td>\n      <td>30-Aug-11</td>\n      <td>NaN</td>\n      <td>NaN</td>\n      <td>tbd</td>\n      <td>NaN</td>\n      <td>EA Tiburon</td>\n    </tr>\n    <tr>\n      <th>2</th>\n      <td>The Sims 2: Pets</td>\n      <td>Wii</td>\n      <td>Simulation</td>\n      <td>Electronic Arts</td>\n      <td>0.46</td>\n      <td>12-Jun-07</td>\n      <td>65.0</td>\n      <td>15.0</td>\n      <td>tbd</td>\n      <td>NaN</td>\n      <td>Maxis</td>\n    </tr>\n    <tr>\n      <th>3</th>\n      <td>Guilty Gear XX Accent Core Plus</td>\n      <td>PSP</td>\n      <td>Fighting</td>\n      <td>PQube</td>\n      <td>0.08</td>\n      <td>7-Apr-09</td>\n      <td>NaN</td>\n      <td>NaN</td>\n      <td>8.3</td>\n      <td>4.0</td>\n      <td>Arc System Works</td>\n    </tr>\n    <tr>\n      <th>4</th>\n      <td>WWE 2K14</td>\n      <td>PS3</td>\n      <td>Sports</td>\n      <td>Take-Two Interactive</td>\n      <td>0.72</td>\n      <td>29-Oct-13</td>\n      <td>74.0</td>\n      <td>21.0</td>\n      <td>7.4</td>\n      <td>60.0</td>\n      <td>Yuke's</td>\n    </tr>\n    <tr>\n      <th>...</th>\n      <td>...</td>\n      <td>...</td>\n      <td>...</td>\n      <td>...</td>\n      <td>...</td>\n      <td>...</td>\n      <td>...</td>\n      <td>...</td>\n      <td>...</td>\n      <td>...</td>\n      <td>...</td>\n    </tr>\n    <tr>\n      <th>1583</th>\n      <td>Major League Baseball 2K8</td>\n      <td>PSP</td>\n      <td>Sports</td>\n      <td>Unknown</td>\n      <td>0.03</td>\n      <td>3-Mar-08</td>\n      <td>63.0</td>\n      <td>5.0</td>\n      <td>tbd</td>\n      <td>NaN</td>\n      <td>Kush Games</td>\n    </tr>\n    <tr>\n      <th>1584</th>\n      <td>Monster Hunter Frontier Online</td>\n      <td>PS3</td>\n      <td>Role-Playing</td>\n      <td>NaN</td>\n      <td>0.03</td>\n      <td>NaN</td>\n      <td>NaN</td>\n      <td>NaN</td>\n      <td>NaN</td>\n      <td>NaN</td>\n      <td>NaN</td>\n    </tr>\n    <tr>\n      <th>1585</th>\n      <td>Battle vs. Chess</td>\n      <td>PS3</td>\n      <td>Misc</td>\n      <td>TopWare Interactive</td>\n      <td>0.03</td>\n      <td>TBA</td>\n      <td>NaN</td>\n      <td>NaN</td>\n      <td>NaN</td>\n      <td>NaN</td>\n      <td>TopWare Interactive</td>\n    </tr>\n    <tr>\n      <th>1586</th>\n      <td>AKB1/48: Idol to Guam de Koishitara...</td>\n      <td>X360</td>\n      <td>Misc</td>\n      <td>NaN</td>\n      <td>0.01</td>\n      <td>NaN</td>\n      <td>NaN</td>\n      <td>NaN</td>\n      <td>NaN</td>\n      <td>NaN</td>\n      <td>NaN</td>\n    </tr>\n    <tr>\n      <th>1587</th>\n      <td>PDC World Championship Darts 2008</td>\n      <td>PSP</td>\n      <td>Sports</td>\n      <td>Oxygen Interactive</td>\n      <td>0.01</td>\n      <td>16-Jun-09</td>\n      <td>43.0</td>\n      <td>7.0</td>\n      <td>tbd</td>\n      <td>NaN</td>\n      <td>Oxygen Interactive</td>\n    </tr>\n  </tbody>\n</table>\n<p>3220 rows × 11 columns</p>\n</div>"
     },
     "metadata": {},
     "execution_count": 168
    }
   ],
   "source": [
    "import pandas as pd\n",
    "import numpy as np\n",
    "from sklearn.preprocessing import MinMaxScaler\n",
    "\n",
    "df1 = pd.read_csv('trabalho2_dados_1.csv')\n",
    "df2 = pd.read_csv('trabalho3_dados_adicionais_1.csv')\n",
    "df = pd.concat([df1, df2])\n",
    "\n",
    "print(\"Total de jogos na base de dados 1: {}\".format(len(df1)))\n",
    "print(\"Total de jogos na base de dados 2: {}\".format(len(df2)))\n",
    "\n",
    "print(\"\\nBase de dados resultante da operação de concatenação:\")\n",
    "\n",
    "df"
   ]
  },
  {
   "source": [
    "## Tratamento de variáveis categóricas\n",
    "\n",
    "Há somente dois atributos categóricos: **plataforma** e **gênero**."
   ],
   "cell_type": "markdown",
   "metadata": {}
  },
  {
   "cell_type": "code",
   "execution_count": 169,
   "metadata": {},
   "outputs": [
    {
     "output_type": "stream",
     "name": "stdout",
     "text": [
      "Plataformas: Index(['3DS', 'PS3', 'PS4', 'PSP', 'PSV', 'Wii', 'WiiU', 'X360', 'XOne'], dtype='object')\nGêneros: Index(['Action', 'Adventure', 'Fighting', 'Misc', 'Platform', 'Puzzle',\n       'Racing', 'Role-Playing', 'Shooter', 'Simulation', 'Sports',\n       'Strategy'],\n      dtype='object')\n"
     ]
    }
   ],
   "source": [
    "# Atributos categóricos\n",
    "df['plataforma'] = df['plataforma'].astype('category')\n",
    "df['genero'] = df['genero'].astype('category')\n",
    "\n",
    "print(\"Plataformas: {}\".format(df['plataforma'].cat.categories))\n",
    "print(\"Gêneros: {}\".format(df['genero'].cat.categories))"
   ]
  },
  {
   "source": [
    "## Unicidade\n",
    "\n",
    "O nome do jogo eletrônico atua como chave-primária, portanto é necessário remover os jogos que aparecem repetidos no *dataframe*. Para manter a indexação consistente, utiliza-se a função `reset_index`."
   ],
   "cell_type": "markdown",
   "metadata": {}
  },
  {
   "cell_type": "code",
   "execution_count": 170,
   "metadata": {},
   "outputs": [
    {
     "output_type": "execute_result",
     "data": {
      "text/plain": [
       "                                       nome\n",
       "0              Jelly Belly: Ballistic Beans\n",
       "1                             Madden NFL 12\n",
       "2                          The Sims 2: Pets\n",
       "3           Guilty Gear XX Accent Core Plus\n",
       "4                                  WWE 2K14\n",
       "...                                     ...\n",
       "1442                  D.C. III: Da Capo III\n",
       "1443                Street Fighter X Tekken\n",
       "1444             John Daly's ProStroke Golf\n",
       "1445  Backyard Sports Football: Rookie Rush\n",
       "1446              Darkstalkers Resurrection\n",
       "\n",
       "[1447 rows x 1 columns]"
      ],
      "text/html": "<div>\n<style scoped>\n    .dataframe tbody tr th:only-of-type {\n        vertical-align: middle;\n    }\n\n    .dataframe tbody tr th {\n        vertical-align: top;\n    }\n\n    .dataframe thead th {\n        text-align: right;\n    }\n</style>\n<table border=\"1\" class=\"dataframe\">\n  <thead>\n    <tr style=\"text-align: right;\">\n      <th></th>\n      <th>nome</th>\n    </tr>\n  </thead>\n  <tbody>\n    <tr>\n      <th>0</th>\n      <td>Jelly Belly: Ballistic Beans</td>\n    </tr>\n    <tr>\n      <th>1</th>\n      <td>Madden NFL 12</td>\n    </tr>\n    <tr>\n      <th>2</th>\n      <td>The Sims 2: Pets</td>\n    </tr>\n    <tr>\n      <th>3</th>\n      <td>Guilty Gear XX Accent Core Plus</td>\n    </tr>\n    <tr>\n      <th>4</th>\n      <td>WWE 2K14</td>\n    </tr>\n    <tr>\n      <th>...</th>\n      <td>...</td>\n    </tr>\n    <tr>\n      <th>1442</th>\n      <td>D.C. III: Da Capo III</td>\n    </tr>\n    <tr>\n      <th>1443</th>\n      <td>Street Fighter X Tekken</td>\n    </tr>\n    <tr>\n      <th>1444</th>\n      <td>John Daly's ProStroke Golf</td>\n    </tr>\n    <tr>\n      <th>1445</th>\n      <td>Backyard Sports Football: Rookie Rush</td>\n    </tr>\n    <tr>\n      <th>1446</th>\n      <td>Darkstalkers Resurrection</td>\n    </tr>\n  </tbody>\n</table>\n<p>1447 rows × 1 columns</p>\n</div>"
     },
     "metadata": {},
     "execution_count": 170
    }
   ],
   "source": [
    "# Jogos são únicos\n",
    "df = df.drop_duplicates(subset = ['nome'])\n",
    "df = df.reset_index(drop = True)\n",
    "\n",
    "df[['nome']]"
   ]
  },
  {
   "source": [
    "## Tratamento de dados faltantes\n",
    "\n",
    "Foram identificados os seguintes atributos faltantes em algumas instâncias do *dataframe*:"
   ],
   "cell_type": "markdown",
   "metadata": {}
  },
  {
   "source": [
    "df.isnull().sum()"
   ],
   "cell_type": "code",
   "metadata": {},
   "execution_count": 171,
   "outputs": [
    {
     "output_type": "execute_result",
     "data": {
      "text/plain": [
       "nome                    0\n",
       "plataforma              0\n",
       "genero                  0\n",
       "editora                 4\n",
       "vendas                  0\n",
       "lancamento            455\n",
       "avaliacao-criticos    639\n",
       "numero-criticos       639\n",
       "avaliacao-usuarios    470\n",
       "numero-usuarios       693\n",
       "fabricante            459\n",
       "dtype: int64"
      ]
     },
     "metadata": {},
     "execution_count": 171
    }
   ]
  },
  {
   "source": [
    "Neste momento, há somente preocupação em tratar dados **numéricos** faltantes, uma vez que estes são os mais sensíveis para a aplicação dos métodos de aprendizado de máquina:\n",
    "\n",
    "*  avaliacao-criticos\n",
    "*  numero-criticos\n",
    "*  avaliacao-usuarios\n",
    "*  numero-usuarios\n",
    "\n",
    "O preenchimento de dados faltantes será feito através da média geral do gênero do jogo em questão. "
   ],
   "cell_type": "markdown",
   "metadata": {}
  },
  {
   "cell_type": "code",
   "execution_count": 172,
   "metadata": {},
   "outputs": [
    {
     "output_type": "execute_result",
     "data": {
      "text/plain": [
       "                                       nome      genero  avaliacao-criticos  \\\n",
       "0              Jelly Belly: Ballistic Beans      Puzzle           62.095238   \n",
       "1                             Madden NFL 12      Sports           66.848485   \n",
       "2                          The Sims 2: Pets  Simulation           65.000000   \n",
       "3           Guilty Gear XX Accent Core Plus    Fighting           70.160000   \n",
       "4                                  WWE 2K14      Sports           74.000000   \n",
       "...                                     ...         ...                 ...   \n",
       "1442                  D.C. III: Da Capo III   Adventure           67.439024   \n",
       "1443                Street Fighter X Tekken    Fighting           83.000000   \n",
       "1444             John Daly's ProStroke Golf      Sports           57.000000   \n",
       "1445  Backyard Sports Football: Rookie Rush      Sports           66.848485   \n",
       "1446              Darkstalkers Resurrection    Fighting           80.000000   \n",
       "\n",
       "      avaliacao-usuarios  numero-criticos  numero-usuarios  \n",
       "0               6.133333               17               10  \n",
       "1               6.804167               22               29  \n",
       "2               7.558333               15               31  \n",
       "3               8.300000               30                4  \n",
       "4               7.400000               21               60  \n",
       "...                  ...              ...              ...  \n",
       "1442            7.119048               32              331  \n",
       "1443            4.200000               45              162  \n",
       "1444            6.804167                5               29  \n",
       "1445            6.804167               22               29  \n",
       "1446            7.000000               33               26  \n",
       "\n",
       "[1447 rows x 6 columns]"
      ],
      "text/html": "<div>\n<style scoped>\n    .dataframe tbody tr th:only-of-type {\n        vertical-align: middle;\n    }\n\n    .dataframe tbody tr th {\n        vertical-align: top;\n    }\n\n    .dataframe thead th {\n        text-align: right;\n    }\n</style>\n<table border=\"1\" class=\"dataframe\">\n  <thead>\n    <tr style=\"text-align: right;\">\n      <th></th>\n      <th>nome</th>\n      <th>genero</th>\n      <th>avaliacao-criticos</th>\n      <th>avaliacao-usuarios</th>\n      <th>numero-criticos</th>\n      <th>numero-usuarios</th>\n    </tr>\n  </thead>\n  <tbody>\n    <tr>\n      <th>0</th>\n      <td>Jelly Belly: Ballistic Beans</td>\n      <td>Puzzle</td>\n      <td>62.095238</td>\n      <td>6.133333</td>\n      <td>17</td>\n      <td>10</td>\n    </tr>\n    <tr>\n      <th>1</th>\n      <td>Madden NFL 12</td>\n      <td>Sports</td>\n      <td>66.848485</td>\n      <td>6.804167</td>\n      <td>22</td>\n      <td>29</td>\n    </tr>\n    <tr>\n      <th>2</th>\n      <td>The Sims 2: Pets</td>\n      <td>Simulation</td>\n      <td>65.000000</td>\n      <td>7.558333</td>\n      <td>15</td>\n      <td>31</td>\n    </tr>\n    <tr>\n      <th>3</th>\n      <td>Guilty Gear XX Accent Core Plus</td>\n      <td>Fighting</td>\n      <td>70.160000</td>\n      <td>8.300000</td>\n      <td>30</td>\n      <td>4</td>\n    </tr>\n    <tr>\n      <th>4</th>\n      <td>WWE 2K14</td>\n      <td>Sports</td>\n      <td>74.000000</td>\n      <td>7.400000</td>\n      <td>21</td>\n      <td>60</td>\n    </tr>\n    <tr>\n      <th>...</th>\n      <td>...</td>\n      <td>...</td>\n      <td>...</td>\n      <td>...</td>\n      <td>...</td>\n      <td>...</td>\n    </tr>\n    <tr>\n      <th>1442</th>\n      <td>D.C. III: Da Capo III</td>\n      <td>Adventure</td>\n      <td>67.439024</td>\n      <td>7.119048</td>\n      <td>32</td>\n      <td>331</td>\n    </tr>\n    <tr>\n      <th>1443</th>\n      <td>Street Fighter X Tekken</td>\n      <td>Fighting</td>\n      <td>83.000000</td>\n      <td>4.200000</td>\n      <td>45</td>\n      <td>162</td>\n    </tr>\n    <tr>\n      <th>1444</th>\n      <td>John Daly's ProStroke Golf</td>\n      <td>Sports</td>\n      <td>57.000000</td>\n      <td>6.804167</td>\n      <td>5</td>\n      <td>29</td>\n    </tr>\n    <tr>\n      <th>1445</th>\n      <td>Backyard Sports Football: Rookie Rush</td>\n      <td>Sports</td>\n      <td>66.848485</td>\n      <td>6.804167</td>\n      <td>22</td>\n      <td>29</td>\n    </tr>\n    <tr>\n      <th>1446</th>\n      <td>Darkstalkers Resurrection</td>\n      <td>Fighting</td>\n      <td>80.000000</td>\n      <td>7.000000</td>\n      <td>33</td>\n      <td>26</td>\n    </tr>\n  </tbody>\n</table>\n<p>1447 rows × 6 columns</p>\n</div>"
     },
     "metadata": {},
     "execution_count": 172
    }
   ],
   "source": [
    "# Converter valores 'tbd' para NaN\n",
    "df['avaliacao-usuarios'] = pd.to_numeric(df['avaliacao-usuarios'], errors = 'coerce')\n",
    "\n",
    "# Agrupando por gênero e coletando a média para os valores faltantes\n",
    "df['avaliacao-criticos'] = df.groupby('genero')['avaliacao-criticos'].transform(lambda x: x.fillna(x.mean()))\n",
    "df['avaliacao-usuarios'] = df.groupby('genero')['avaliacao-usuarios'].transform(lambda x: x.fillna(x.mean()))\n",
    "df['numero-criticos'] = df.groupby('genero')['numero-criticos'].transform(lambda x: x.fillna(x.mean())).astype('int')\n",
    "df['numero-usuarios'] = df.groupby('genero')['numero-usuarios'].transform(lambda x: x.fillna(x.mean())).astype('int')\n",
    "\n",
    "df[['nome', 'genero', 'avaliacao-criticos', 'avaliacao-usuarios', 'numero-criticos', 'numero-usuarios']]"
   ]
  },
  {
   "source": [
    "## Normalização dos dados\n",
    "\n",
    "*  Para que métodos de aprendizado de máquina operem melhor sobre atributos categóricos, utiliza-se o método `get_dummies()` para gerar um atributo binário para cada categoria existente. \n",
    "*  Além disso, todos os dados númericos foram normalizados no intervalo \\[0, 1\\] utilizando o scaler `MinMaxScaler`.\n"
   ],
   "cell_type": "markdown",
   "metadata": {}
  },
  {
   "cell_type": "code",
   "execution_count": 173,
   "metadata": {},
   "outputs": [
    {
     "output_type": "execute_result",
     "data": {
      "text/plain": [
       "                                       nome                 editora    vendas  \\\n",
       "0              Jelly Belly: Ballistic Beans  Zoo Digital Publishing  0.000122   \n",
       "1                             Madden NFL 12         Electronic Arts  0.002322   \n",
       "2                          The Sims 2: Pets         Electronic Arts  0.005499   \n",
       "3           Guilty Gear XX Accent Core Plus                   PQube  0.000855   \n",
       "4                                  WWE 2K14    Take-Two Interactive  0.008677   \n",
       "...                                     ...                     ...       ...   \n",
       "1442                  D.C. III: Da Capo III          Kadokawa Games  0.000244   \n",
       "1443                Street Fighter X Tekken                  Capcom  0.004644   \n",
       "1444             John Daly's ProStroke Golf                 O-Games  0.000000   \n",
       "1445  Backyard Sports Football: Rookie Rush                   Atari  0.000855   \n",
       "1446              Darkstalkers Resurrection                  Capcom  0.000244   \n",
       "\n",
       "     lancamento  avaliacao-criticos  numero-criticos  avaliacao-usuarios  \\\n",
       "0     21-Apr-09            0.577591         0.126214            0.627451   \n",
       "1     30-Aug-11            0.633512         0.174757            0.706373   \n",
       "2     12-Jun-07            0.611765         0.106796            0.795098   \n",
       "3      7-Apr-09            0.672471         0.252427            0.882353   \n",
       "4     29-Oct-13            0.717647         0.165049            0.776471   \n",
       "...         ...                 ...              ...                 ...   \n",
       "1442        NaN            0.640459         0.271845            0.743417   \n",
       "1443   6-Mar-12            0.823529         0.398058            0.400000   \n",
       "1444   Canceled            0.517647         0.009709            0.706373   \n",
       "1445        NaN            0.633512         0.174757            0.706373   \n",
       "1446  12-Mar-13            0.788235         0.281553            0.729412   \n",
       "\n",
       "      numero-usuarios              fabricante  plataforma_3DS  ...  \\\n",
       "0            0.000710  Zoo Digital Publishing               0  ...   \n",
       "1            0.002958              EA Tiburon               0  ...   \n",
       "2            0.003194                   Maxis               0  ...   \n",
       "3            0.000000        Arc System Works               0  ...   \n",
       "4            0.006625                  Yuke's               0  ...   \n",
       "...               ...                     ...             ...  ...   \n",
       "1442         0.038684                     NaN               0  ...   \n",
       "1443         0.018692                  Capcom               0  ...   \n",
       "1444         0.002958             Gusto Games               0  ...   \n",
       "1445         0.002958                     NaN               0  ...   \n",
       "1446         0.002603     Iron Galaxy Studios               0  ...   \n",
       "\n",
       "      genero_Fighting  genero_Misc  genero_Platform  genero_Puzzle  \\\n",
       "0                   0            0                0              1   \n",
       "1                   0            0                0              0   \n",
       "2                   0            0                0              0   \n",
       "3                   1            0                0              0   \n",
       "4                   0            0                0              0   \n",
       "...               ...          ...              ...            ...   \n",
       "1442                0            0                0              0   \n",
       "1443                1            0                0              0   \n",
       "1444                0            0                0              0   \n",
       "1445                0            0                0              0   \n",
       "1446                1            0                0              0   \n",
       "\n",
       "      genero_Racing  genero_Role-Playing  genero_Shooter  genero_Simulation  \\\n",
       "0                 0                    0               0                  0   \n",
       "1                 0                    0               0                  0   \n",
       "2                 0                    0               0                  1   \n",
       "3                 0                    0               0                  0   \n",
       "4                 0                    0               0                  0   \n",
       "...             ...                  ...             ...                ...   \n",
       "1442              0                    0               0                  0   \n",
       "1443              0                    0               0                  0   \n",
       "1444              0                    0               0                  0   \n",
       "1445              0                    0               0                  0   \n",
       "1446              0                    0               0                  0   \n",
       "\n",
       "      genero_Sports  genero_Strategy  \n",
       "0                 0                0  \n",
       "1                 1                0  \n",
       "2                 0                0  \n",
       "3                 0                0  \n",
       "4                 1                0  \n",
       "...             ...              ...  \n",
       "1442              0                0  \n",
       "1443              0                0  \n",
       "1444              1                0  \n",
       "1445              1                0  \n",
       "1446              0                0  \n",
       "\n",
       "[1447 rows x 30 columns]"
      ],
      "text/html": "<div>\n<style scoped>\n    .dataframe tbody tr th:only-of-type {\n        vertical-align: middle;\n    }\n\n    .dataframe tbody tr th {\n        vertical-align: top;\n    }\n\n    .dataframe thead th {\n        text-align: right;\n    }\n</style>\n<table border=\"1\" class=\"dataframe\">\n  <thead>\n    <tr style=\"text-align: right;\">\n      <th></th>\n      <th>nome</th>\n      <th>editora</th>\n      <th>vendas</th>\n      <th>lancamento</th>\n      <th>avaliacao-criticos</th>\n      <th>numero-criticos</th>\n      <th>avaliacao-usuarios</th>\n      <th>numero-usuarios</th>\n      <th>fabricante</th>\n      <th>plataforma_3DS</th>\n      <th>...</th>\n      <th>genero_Fighting</th>\n      <th>genero_Misc</th>\n      <th>genero_Platform</th>\n      <th>genero_Puzzle</th>\n      <th>genero_Racing</th>\n      <th>genero_Role-Playing</th>\n      <th>genero_Shooter</th>\n      <th>genero_Simulation</th>\n      <th>genero_Sports</th>\n      <th>genero_Strategy</th>\n    </tr>\n  </thead>\n  <tbody>\n    <tr>\n      <th>0</th>\n      <td>Jelly Belly: Ballistic Beans</td>\n      <td>Zoo Digital Publishing</td>\n      <td>0.000122</td>\n      <td>21-Apr-09</td>\n      <td>0.577591</td>\n      <td>0.126214</td>\n      <td>0.627451</td>\n      <td>0.000710</td>\n      <td>Zoo Digital Publishing</td>\n      <td>0</td>\n      <td>...</td>\n      <td>0</td>\n      <td>0</td>\n      <td>0</td>\n      <td>1</td>\n      <td>0</td>\n      <td>0</td>\n      <td>0</td>\n      <td>0</td>\n      <td>0</td>\n      <td>0</td>\n    </tr>\n    <tr>\n      <th>1</th>\n      <td>Madden NFL 12</td>\n      <td>Electronic Arts</td>\n      <td>0.002322</td>\n      <td>30-Aug-11</td>\n      <td>0.633512</td>\n      <td>0.174757</td>\n      <td>0.706373</td>\n      <td>0.002958</td>\n      <td>EA Tiburon</td>\n      <td>0</td>\n      <td>...</td>\n      <td>0</td>\n      <td>0</td>\n      <td>0</td>\n      <td>0</td>\n      <td>0</td>\n      <td>0</td>\n      <td>0</td>\n      <td>0</td>\n      <td>1</td>\n      <td>0</td>\n    </tr>\n    <tr>\n      <th>2</th>\n      <td>The Sims 2: Pets</td>\n      <td>Electronic Arts</td>\n      <td>0.005499</td>\n      <td>12-Jun-07</td>\n      <td>0.611765</td>\n      <td>0.106796</td>\n      <td>0.795098</td>\n      <td>0.003194</td>\n      <td>Maxis</td>\n      <td>0</td>\n      <td>...</td>\n      <td>0</td>\n      <td>0</td>\n      <td>0</td>\n      <td>0</td>\n      <td>0</td>\n      <td>0</td>\n      <td>0</td>\n      <td>1</td>\n      <td>0</td>\n      <td>0</td>\n    </tr>\n    <tr>\n      <th>3</th>\n      <td>Guilty Gear XX Accent Core Plus</td>\n      <td>PQube</td>\n      <td>0.000855</td>\n      <td>7-Apr-09</td>\n      <td>0.672471</td>\n      <td>0.252427</td>\n      <td>0.882353</td>\n      <td>0.000000</td>\n      <td>Arc System Works</td>\n      <td>0</td>\n      <td>...</td>\n      <td>1</td>\n      <td>0</td>\n      <td>0</td>\n      <td>0</td>\n      <td>0</td>\n      <td>0</td>\n      <td>0</td>\n      <td>0</td>\n      <td>0</td>\n      <td>0</td>\n    </tr>\n    <tr>\n      <th>4</th>\n      <td>WWE 2K14</td>\n      <td>Take-Two Interactive</td>\n      <td>0.008677</td>\n      <td>29-Oct-13</td>\n      <td>0.717647</td>\n      <td>0.165049</td>\n      <td>0.776471</td>\n      <td>0.006625</td>\n      <td>Yuke's</td>\n      <td>0</td>\n      <td>...</td>\n      <td>0</td>\n      <td>0</td>\n      <td>0</td>\n      <td>0</td>\n      <td>0</td>\n      <td>0</td>\n      <td>0</td>\n      <td>0</td>\n      <td>1</td>\n      <td>0</td>\n    </tr>\n    <tr>\n      <th>...</th>\n      <td>...</td>\n      <td>...</td>\n      <td>...</td>\n      <td>...</td>\n      <td>...</td>\n      <td>...</td>\n      <td>...</td>\n      <td>...</td>\n      <td>...</td>\n      <td>...</td>\n      <td>...</td>\n      <td>...</td>\n      <td>...</td>\n      <td>...</td>\n      <td>...</td>\n      <td>...</td>\n      <td>...</td>\n      <td>...</td>\n      <td>...</td>\n      <td>...</td>\n      <td>...</td>\n    </tr>\n    <tr>\n      <th>1442</th>\n      <td>D.C. III: Da Capo III</td>\n      <td>Kadokawa Games</td>\n      <td>0.000244</td>\n      <td>NaN</td>\n      <td>0.640459</td>\n      <td>0.271845</td>\n      <td>0.743417</td>\n      <td>0.038684</td>\n      <td>NaN</td>\n      <td>0</td>\n      <td>...</td>\n      <td>0</td>\n      <td>0</td>\n      <td>0</td>\n      <td>0</td>\n      <td>0</td>\n      <td>0</td>\n      <td>0</td>\n      <td>0</td>\n      <td>0</td>\n      <td>0</td>\n    </tr>\n    <tr>\n      <th>1443</th>\n      <td>Street Fighter X Tekken</td>\n      <td>Capcom</td>\n      <td>0.004644</td>\n      <td>6-Mar-12</td>\n      <td>0.823529</td>\n      <td>0.398058</td>\n      <td>0.400000</td>\n      <td>0.018692</td>\n      <td>Capcom</td>\n      <td>0</td>\n      <td>...</td>\n      <td>1</td>\n      <td>0</td>\n      <td>0</td>\n      <td>0</td>\n      <td>0</td>\n      <td>0</td>\n      <td>0</td>\n      <td>0</td>\n      <td>0</td>\n      <td>0</td>\n    </tr>\n    <tr>\n      <th>1444</th>\n      <td>John Daly's ProStroke Golf</td>\n      <td>O-Games</td>\n      <td>0.000000</td>\n      <td>Canceled</td>\n      <td>0.517647</td>\n      <td>0.009709</td>\n      <td>0.706373</td>\n      <td>0.002958</td>\n      <td>Gusto Games</td>\n      <td>0</td>\n      <td>...</td>\n      <td>0</td>\n      <td>0</td>\n      <td>0</td>\n      <td>0</td>\n      <td>0</td>\n      <td>0</td>\n      <td>0</td>\n      <td>0</td>\n      <td>1</td>\n      <td>0</td>\n    </tr>\n    <tr>\n      <th>1445</th>\n      <td>Backyard Sports Football: Rookie Rush</td>\n      <td>Atari</td>\n      <td>0.000855</td>\n      <td>NaN</td>\n      <td>0.633512</td>\n      <td>0.174757</td>\n      <td>0.706373</td>\n      <td>0.002958</td>\n      <td>NaN</td>\n      <td>0</td>\n      <td>...</td>\n      <td>0</td>\n      <td>0</td>\n      <td>0</td>\n      <td>0</td>\n      <td>0</td>\n      <td>0</td>\n      <td>0</td>\n      <td>0</td>\n      <td>1</td>\n      <td>0</td>\n    </tr>\n    <tr>\n      <th>1446</th>\n      <td>Darkstalkers Resurrection</td>\n      <td>Capcom</td>\n      <td>0.000244</td>\n      <td>12-Mar-13</td>\n      <td>0.788235</td>\n      <td>0.281553</td>\n      <td>0.729412</td>\n      <td>0.002603</td>\n      <td>Iron Galaxy Studios</td>\n      <td>0</td>\n      <td>...</td>\n      <td>1</td>\n      <td>0</td>\n      <td>0</td>\n      <td>0</td>\n      <td>0</td>\n      <td>0</td>\n      <td>0</td>\n      <td>0</td>\n      <td>0</td>\n      <td>0</td>\n    </tr>\n  </tbody>\n</table>\n<p>1447 rows × 30 columns</p>\n</div>"
     },
     "metadata": {},
     "execution_count": 173
    }
   ],
   "source": [
    "# Similar ao LabelBinarizer\n",
    "df = pd.get_dummies(df, columns = ['plataforma', 'genero'])\n",
    "\n",
    "df[['vendas', 'avaliacao-criticos', 'numero-criticos', 'avaliacao-usuarios', 'numero-usuarios']] = MinMaxScaler().fit_transform(df[['vendas', 'avaliacao-criticos', 'numero-criticos', 'avaliacao-usuarios', 'numero-usuarios']])\n",
    "\n",
    "df"
   ]
  },
  {
   "source": [
    "## Detecção de outliers\n",
    "\n",
    "Para esta base de dados, considerou-se como **outliers** instâncias que apresentam valores extremos (para mais ou para menos) no atributo **vendas**, com intervalo de confiança de 95%.\n",
    "O motivo para esta decisão vem do fato de que, além de ser um atributo importante, todas as instâncias continham um valor inicial daquele, não necessitando de preenchimento artificial. \n",
    "\n"
   ],
   "cell_type": "markdown",
   "metadata": {}
  },
  {
   "cell_type": "code",
   "execution_count": 174,
   "metadata": {},
   "outputs": [
    {
     "output_type": "execute_result",
     "data": {
      "text/plain": [
       "                                       nome                 editora    vendas  \\\n",
       "0              Jelly Belly: Ballistic Beans  Zoo Digital Publishing  0.000122   \n",
       "1                             Madden NFL 12         Electronic Arts  0.002322   \n",
       "2                          The Sims 2: Pets         Electronic Arts  0.005499   \n",
       "3           Guilty Gear XX Accent Core Plus                   PQube  0.000855   \n",
       "4                                  WWE 2K14    Take-Two Interactive  0.008677   \n",
       "...                                     ...                     ...       ...   \n",
       "1442                  D.C. III: Da Capo III          Kadokawa Games  0.000244   \n",
       "1443                Street Fighter X Tekken                  Capcom  0.004644   \n",
       "1444             John Daly's ProStroke Golf                 O-Games  0.000000   \n",
       "1445  Backyard Sports Football: Rookie Rush                   Atari  0.000855   \n",
       "1446              Darkstalkers Resurrection                  Capcom  0.000244   \n",
       "\n",
       "     lancamento  avaliacao-criticos  numero-criticos  avaliacao-usuarios  \\\n",
       "0     21-Apr-09            0.577591         0.126214            0.627451   \n",
       "1     30-Aug-11            0.633512         0.174757            0.706373   \n",
       "2     12-Jun-07            0.611765         0.106796            0.795098   \n",
       "3      7-Apr-09            0.672471         0.252427            0.882353   \n",
       "4     29-Oct-13            0.717647         0.165049            0.776471   \n",
       "...         ...                 ...              ...                 ...   \n",
       "1442        NaN            0.640459         0.271845            0.743417   \n",
       "1443   6-Mar-12            0.823529         0.398058            0.400000   \n",
       "1444   Canceled            0.517647         0.009709            0.706373   \n",
       "1445        NaN            0.633512         0.174757            0.706373   \n",
       "1446  12-Mar-13            0.788235         0.281553            0.729412   \n",
       "\n",
       "      numero-usuarios              fabricante  plataforma_3DS  ...  \\\n",
       "0            0.000710  Zoo Digital Publishing               0  ...   \n",
       "1            0.002958              EA Tiburon               0  ...   \n",
       "2            0.003194                   Maxis               0  ...   \n",
       "3            0.000000        Arc System Works               0  ...   \n",
       "4            0.006625                  Yuke's               0  ...   \n",
       "...               ...                     ...             ...  ...   \n",
       "1442         0.038684                     NaN               0  ...   \n",
       "1443         0.018692                  Capcom               0  ...   \n",
       "1444         0.002958             Gusto Games               0  ...   \n",
       "1445         0.002958                     NaN               0  ...   \n",
       "1446         0.002603     Iron Galaxy Studios               0  ...   \n",
       "\n",
       "      genero_Fighting  genero_Misc  genero_Platform  genero_Puzzle  \\\n",
       "0                   0            0                0              1   \n",
       "1                   0            0                0              0   \n",
       "2                   0            0                0              0   \n",
       "3                   1            0                0              0   \n",
       "4                   0            0                0              0   \n",
       "...               ...          ...              ...            ...   \n",
       "1442                0            0                0              0   \n",
       "1443                1            0                0              0   \n",
       "1444                0            0                0              0   \n",
       "1445                0            0                0              0   \n",
       "1446                1            0                0              0   \n",
       "\n",
       "      genero_Racing  genero_Role-Playing  genero_Shooter  genero_Simulation  \\\n",
       "0                 0                    0               0                  0   \n",
       "1                 0                    0               0                  0   \n",
       "2                 0                    0               0                  1   \n",
       "3                 0                    0               0                  0   \n",
       "4                 0                    0               0                  0   \n",
       "...             ...                  ...             ...                ...   \n",
       "1442              0                    0               0                  0   \n",
       "1443              0                    0               0                  0   \n",
       "1444              0                    0               0                  0   \n",
       "1445              0                    0               0                  0   \n",
       "1446              0                    0               0                  0   \n",
       "\n",
       "      genero_Sports  genero_Strategy  \n",
       "0                 0                0  \n",
       "1                 1                0  \n",
       "2                 0                0  \n",
       "3                 0                0  \n",
       "4                 1                0  \n",
       "...             ...              ...  \n",
       "1442              0                0  \n",
       "1443              0                0  \n",
       "1444              1                0  \n",
       "1445              1                0  \n",
       "1446              0                0  \n",
       "\n",
       "[1427 rows x 30 columns]"
      ],
      "text/html": "<div>\n<style scoped>\n    .dataframe tbody tr th:only-of-type {\n        vertical-align: middle;\n    }\n\n    .dataframe tbody tr th {\n        vertical-align: top;\n    }\n\n    .dataframe thead th {\n        text-align: right;\n    }\n</style>\n<table border=\"1\" class=\"dataframe\">\n  <thead>\n    <tr style=\"text-align: right;\">\n      <th></th>\n      <th>nome</th>\n      <th>editora</th>\n      <th>vendas</th>\n      <th>lancamento</th>\n      <th>avaliacao-criticos</th>\n      <th>numero-criticos</th>\n      <th>avaliacao-usuarios</th>\n      <th>numero-usuarios</th>\n      <th>fabricante</th>\n      <th>plataforma_3DS</th>\n      <th>...</th>\n      <th>genero_Fighting</th>\n      <th>genero_Misc</th>\n      <th>genero_Platform</th>\n      <th>genero_Puzzle</th>\n      <th>genero_Racing</th>\n      <th>genero_Role-Playing</th>\n      <th>genero_Shooter</th>\n      <th>genero_Simulation</th>\n      <th>genero_Sports</th>\n      <th>genero_Strategy</th>\n    </tr>\n  </thead>\n  <tbody>\n    <tr>\n      <th>0</th>\n      <td>Jelly Belly: Ballistic Beans</td>\n      <td>Zoo Digital Publishing</td>\n      <td>0.000122</td>\n      <td>21-Apr-09</td>\n      <td>0.577591</td>\n      <td>0.126214</td>\n      <td>0.627451</td>\n      <td>0.000710</td>\n      <td>Zoo Digital Publishing</td>\n      <td>0</td>\n      <td>...</td>\n      <td>0</td>\n      <td>0</td>\n      <td>0</td>\n      <td>1</td>\n      <td>0</td>\n      <td>0</td>\n      <td>0</td>\n      <td>0</td>\n      <td>0</td>\n      <td>0</td>\n    </tr>\n    <tr>\n      <th>1</th>\n      <td>Madden NFL 12</td>\n      <td>Electronic Arts</td>\n      <td>0.002322</td>\n      <td>30-Aug-11</td>\n      <td>0.633512</td>\n      <td>0.174757</td>\n      <td>0.706373</td>\n      <td>0.002958</td>\n      <td>EA Tiburon</td>\n      <td>0</td>\n      <td>...</td>\n      <td>0</td>\n      <td>0</td>\n      <td>0</td>\n      <td>0</td>\n      <td>0</td>\n      <td>0</td>\n      <td>0</td>\n      <td>0</td>\n      <td>1</td>\n      <td>0</td>\n    </tr>\n    <tr>\n      <th>2</th>\n      <td>The Sims 2: Pets</td>\n      <td>Electronic Arts</td>\n      <td>0.005499</td>\n      <td>12-Jun-07</td>\n      <td>0.611765</td>\n      <td>0.106796</td>\n      <td>0.795098</td>\n      <td>0.003194</td>\n      <td>Maxis</td>\n      <td>0</td>\n      <td>...</td>\n      <td>0</td>\n      <td>0</td>\n      <td>0</td>\n      <td>0</td>\n      <td>0</td>\n      <td>0</td>\n      <td>0</td>\n      <td>1</td>\n      <td>0</td>\n      <td>0</td>\n    </tr>\n    <tr>\n      <th>3</th>\n      <td>Guilty Gear XX Accent Core Plus</td>\n      <td>PQube</td>\n      <td>0.000855</td>\n      <td>7-Apr-09</td>\n      <td>0.672471</td>\n      <td>0.252427</td>\n      <td>0.882353</td>\n      <td>0.000000</td>\n      <td>Arc System Works</td>\n      <td>0</td>\n      <td>...</td>\n      <td>1</td>\n      <td>0</td>\n      <td>0</td>\n      <td>0</td>\n      <td>0</td>\n      <td>0</td>\n      <td>0</td>\n      <td>0</td>\n      <td>0</td>\n      <td>0</td>\n    </tr>\n    <tr>\n      <th>4</th>\n      <td>WWE 2K14</td>\n      <td>Take-Two Interactive</td>\n      <td>0.008677</td>\n      <td>29-Oct-13</td>\n      <td>0.717647</td>\n      <td>0.165049</td>\n      <td>0.776471</td>\n      <td>0.006625</td>\n      <td>Yuke's</td>\n      <td>0</td>\n      <td>...</td>\n      <td>0</td>\n      <td>0</td>\n      <td>0</td>\n      <td>0</td>\n      <td>0</td>\n      <td>0</td>\n      <td>0</td>\n      <td>0</td>\n      <td>1</td>\n      <td>0</td>\n    </tr>\n    <tr>\n      <th>...</th>\n      <td>...</td>\n      <td>...</td>\n      <td>...</td>\n      <td>...</td>\n      <td>...</td>\n      <td>...</td>\n      <td>...</td>\n      <td>...</td>\n      <td>...</td>\n      <td>...</td>\n      <td>...</td>\n      <td>...</td>\n      <td>...</td>\n      <td>...</td>\n      <td>...</td>\n      <td>...</td>\n      <td>...</td>\n      <td>...</td>\n      <td>...</td>\n      <td>...</td>\n      <td>...</td>\n    </tr>\n    <tr>\n      <th>1442</th>\n      <td>D.C. III: Da Capo III</td>\n      <td>Kadokawa Games</td>\n      <td>0.000244</td>\n      <td>NaN</td>\n      <td>0.640459</td>\n      <td>0.271845</td>\n      <td>0.743417</td>\n      <td>0.038684</td>\n      <td>NaN</td>\n      <td>0</td>\n      <td>...</td>\n      <td>0</td>\n      <td>0</td>\n      <td>0</td>\n      <td>0</td>\n      <td>0</td>\n      <td>0</td>\n      <td>0</td>\n      <td>0</td>\n      <td>0</td>\n      <td>0</td>\n    </tr>\n    <tr>\n      <th>1443</th>\n      <td>Street Fighter X Tekken</td>\n      <td>Capcom</td>\n      <td>0.004644</td>\n      <td>6-Mar-12</td>\n      <td>0.823529</td>\n      <td>0.398058</td>\n      <td>0.400000</td>\n      <td>0.018692</td>\n      <td>Capcom</td>\n      <td>0</td>\n      <td>...</td>\n      <td>1</td>\n      <td>0</td>\n      <td>0</td>\n      <td>0</td>\n      <td>0</td>\n      <td>0</td>\n      <td>0</td>\n      <td>0</td>\n      <td>0</td>\n      <td>0</td>\n    </tr>\n    <tr>\n      <th>1444</th>\n      <td>John Daly's ProStroke Golf</td>\n      <td>O-Games</td>\n      <td>0.000000</td>\n      <td>Canceled</td>\n      <td>0.517647</td>\n      <td>0.009709</td>\n      <td>0.706373</td>\n      <td>0.002958</td>\n      <td>Gusto Games</td>\n      <td>0</td>\n      <td>...</td>\n      <td>0</td>\n      <td>0</td>\n      <td>0</td>\n      <td>0</td>\n      <td>0</td>\n      <td>0</td>\n      <td>0</td>\n      <td>0</td>\n      <td>1</td>\n      <td>0</td>\n    </tr>\n    <tr>\n      <th>1445</th>\n      <td>Backyard Sports Football: Rookie Rush</td>\n      <td>Atari</td>\n      <td>0.000855</td>\n      <td>NaN</td>\n      <td>0.633512</td>\n      <td>0.174757</td>\n      <td>0.706373</td>\n      <td>0.002958</td>\n      <td>NaN</td>\n      <td>0</td>\n      <td>...</td>\n      <td>0</td>\n      <td>0</td>\n      <td>0</td>\n      <td>0</td>\n      <td>0</td>\n      <td>0</td>\n      <td>0</td>\n      <td>0</td>\n      <td>1</td>\n      <td>0</td>\n    </tr>\n    <tr>\n      <th>1446</th>\n      <td>Darkstalkers Resurrection</td>\n      <td>Capcom</td>\n      <td>0.000244</td>\n      <td>12-Mar-13</td>\n      <td>0.788235</td>\n      <td>0.281553</td>\n      <td>0.729412</td>\n      <td>0.002603</td>\n      <td>Iron Galaxy Studios</td>\n      <td>0</td>\n      <td>...</td>\n      <td>1</td>\n      <td>0</td>\n      <td>0</td>\n      <td>0</td>\n      <td>0</td>\n      <td>0</td>\n      <td>0</td>\n      <td>0</td>\n      <td>0</td>\n      <td>0</td>\n    </tr>\n  </tbody>\n</table>\n<p>1427 rows × 30 columns</p>\n</div>"
     },
     "metadata": {},
     "execution_count": 174
    }
   ],
   "source": [
    "df = df[np.abs(df['vendas'] - df['vendas'].mean()) <= 1.96 * df['vendas'].std()]\n",
    "\n",
    "df"
   ]
  },
  {
   "cell_type": "code",
   "execution_count": null,
   "metadata": {},
   "outputs": [],
   "source": []
  }
 ]
}